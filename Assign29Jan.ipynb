{
 "cells": [
  {
   "cell_type": "markdown",
   "id": "8c8fda7f-dd29-460a-a70d-9a310253758a",
   "metadata": {},
   "source": [
    "## Q1. Who developed Python programming language?"
   ]
  },
  {
   "cell_type": "markdown",
   "id": "97c653b8-da1b-49a2-9853-ab6d9b0d64ee",
   "metadata": {},
   "source": [
    "#### Ans. Guido van Rossum."
   ]
  },
  {
   "cell_type": "code",
   "execution_count": null,
   "id": "3c978a29-5a9e-42c3-922d-4b95a328387b",
   "metadata": {},
   "outputs": [],
   "source": []
  },
  {
   "cell_type": "markdown",
   "id": "4703de04-240a-4442-9461-3578bbc67f30",
   "metadata": {},
   "source": [
    "## Q2. Which type of programming does Python support?"
   ]
  },
  {
   "cell_type": "markdown",
   "id": "e16b5195-6bb8-449f-b4b7-4e2835131672",
   "metadata": {},
   "source": [
    "#### Ans.  Python supports multiple programming paradigms, which includes:-\n",
    "#### structured programming\n",
    "#### object-oriented programming\n",
    "#### functional programming"
   ]
  },
  {
   "cell_type": "code",
   "execution_count": null,
   "id": "071633da-9972-45c3-a1d7-19e19a841db7",
   "metadata": {},
   "outputs": [],
   "source": []
  },
  {
   "cell_type": "markdown",
   "id": "bb9c95b6-8e2a-404e-a9d7-69961f458472",
   "metadata": {},
   "source": [
    "## Q3. Is Python case sensitive when dealing with identifiers?"
   ]
  },
  {
   "cell_type": "markdown",
   "id": "53cf71e7-8d8b-4936-9c52-2d1714b88d69",
   "metadata": {},
   "source": [
    "#### Yes, Python is case sensitive. It treats uppercase and lowercase characters differently"
   ]
  },
  {
   "cell_type": "code",
   "execution_count": null,
   "id": "2b6d0c18-8511-4e4e-bff4-c2c9a6f63dc6",
   "metadata": {},
   "outputs": [],
   "source": []
  },
  {
   "cell_type": "markdown",
   "id": "3cd64c35-d614-4991-aa21-1643a092cb14",
   "metadata": {},
   "source": [
    "## Q4. What is the correct extension of the Python file?"
   ]
  },
  {
   "cell_type": "markdown",
   "id": "55fb4e9a-1ebf-4f7f-91da-6f9e264397bb",
   "metadata": {},
   "source": [
    "#### Ans. '.py' is the correct extention of Python file."
   ]
  },
  {
   "cell_type": "code",
   "execution_count": null,
   "id": "4bab0c92-902d-4ca6-be9d-2a3119564549",
   "metadata": {},
   "outputs": [],
   "source": []
  },
  {
   "cell_type": "markdown",
   "id": "266160f5-ee58-452e-a776-b11268025a29",
   "metadata": {},
   "source": [
    "## Q5. Is Python code compiled or  interpreted?"
   ]
  },
  {
   "cell_type": "markdown",
   "id": "78e33a41-904e-4e6e-ae1f-46cf65e5dc80",
   "metadata": {},
   "source": [
    "#### Ans. Yes, Python code is compiled and interpreted."
   ]
  },
  {
   "cell_type": "code",
   "execution_count": null,
   "id": "82a82066-94a3-4d0d-82e2-938f2e51bcd0",
   "metadata": {},
   "outputs": [],
   "source": []
  },
  {
   "cell_type": "markdown",
   "id": "0eebeb07-6ecd-46e3-8a10-3604b5bbc0a0",
   "metadata": {},
   "source": [
    "## Q6 Name a few blocks of code used to define in Python language."
   ]
  },
  {
   "cell_type": "markdown",
   "id": "f9d0997b-4b7d-42d5-8489-deb03ac48148",
   "metadata": {},
   "source": [
    "#### Ans. Function body\n",
    "#### Class define\n",
    "#### Module"
   ]
  },
  {
   "cell_type": "code",
   "execution_count": null,
   "id": "c3a44884-6ae1-45f2-98d5-846dc1111bae",
   "metadata": {},
   "outputs": [],
   "source": []
  },
  {
   "cell_type": "markdown",
   "id": "78779a91-4abb-4a9e-85c2-f2c5d8b9b5a4",
   "metadata": {},
   "source": [
    "## Q7. State a character used to give single line comment in Python."
   ]
  },
  {
   "cell_type": "markdown",
   "id": "9482973d-46a3-4f26-a0f2-f3328c5c7fb6",
   "metadata": {},
   "source": [
    "#### Ans. '#' character is used to give single line comment in Python."
   ]
  },
  {
   "cell_type": "code",
   "execution_count": null,
   "id": "8c695038-b8a4-499d-9243-3a9bd7d4917b",
   "metadata": {},
   "outputs": [],
   "source": []
  },
  {
   "cell_type": "markdown",
   "id": "a27f775d-8515-440f-8644-1dee5fd97552",
   "metadata": {},
   "source": [
    "## Q8. Mention functions which can help us to find the version of Python that we are currently working on."
   ]
  },
  {
   "cell_type": "markdown",
   "id": "5afd829c-2746-4153-9508-351d8c6587ef",
   "metadata": {},
   "source": [
    "#### Ans. 'sys.version' can be used to find the version of Python that we are currently working on.¶"
   ]
  },
  {
   "cell_type": "code",
   "execution_count": null,
   "id": "04e21525-6241-4d5e-be70-3c82fc405f12",
   "metadata": {},
   "outputs": [],
   "source": []
  },
  {
   "cell_type": "markdown",
   "id": "0e943599-d063-4978-a85e-4dad98a6a42b",
   "metadata": {},
   "source": [
    "## Q9. Pyhton supports the creation of anonymous function at runtime, using a constructor called _______?"
   ]
  },
  {
   "cell_type": "markdown",
   "id": "75e2913b-bc9a-4327-bc86-d78c62ec49e7",
   "metadata": {},
   "source": [
    "#### Ans. 'lambda' is used to create anonymous function in Python."
   ]
  },
  {
   "cell_type": "code",
   "execution_count": null,
   "id": "da5deee6-df38-4d7b-9444-19faee480af5",
   "metadata": {},
   "outputs": [],
   "source": []
  },
  {
   "cell_type": "markdown",
   "id": "79969d70-4cf0-4427-a0a7-c2c488059be6",
   "metadata": {},
   "source": [
    "## Q10. What does pip stands for in Python?"
   ]
  },
  {
   "cell_type": "markdown",
   "id": "be0c23b0-e755-4ff1-bbe3-a834ba868e07",
   "metadata": {},
   "source": [
    "#### Ans. 'pip' is the standard tool which is used for installing Python packages.\n",
    "#### It is used as pip install package_name"
   ]
  },
  {
   "cell_type": "code",
   "execution_count": null,
   "id": "24c778c6-630e-4000-8433-611963f7e274",
   "metadata": {},
   "outputs": [],
   "source": []
  },
  {
   "cell_type": "markdown",
   "id": "8b53cca5-d2ce-4fc3-9825-91d44f04afc5",
   "metadata": {},
   "source": [
    "## Q11. Mention a few buolt-in fucntions in Pyhton."
   ]
  },
  {
   "cell_type": "markdown",
   "id": "1fb4aab4-e30e-40ed-988f-9b1904ea8fa0",
   "metadata": {},
   "source": [
    "#### Ans. Some buiilt-in functions in Python are:-\n",
    "####      print()\n",
    "####      len()\n",
    "####      int()\n",
    "####      float()\n",
    "####      list?()\n",
    "####      max()\n",
    "####      min()\n",
    "\n",
    "####      type()"
   ]
  },
  {
   "cell_type": "code",
   "execution_count": null,
   "id": "a2774d19-2af0-4c10-9e35-051854d7a42f",
   "metadata": {},
   "outputs": [],
   "source": []
  },
  {
   "cell_type": "markdown",
   "id": "ae757c6a-757f-46da-9f31-06ceac9dd930",
   "metadata": {},
   "source": [
    "## Q12. What is the maximum possible length of an identifier in Python?"
   ]
  },
  {
   "cell_type": "markdown",
   "id": "ba1069bc-0f60-4f35-aa6a-0109619bf4d6",
   "metadata": {},
   "source": [
    "#### Ans.\n",
    "#### 79 is the maximum possible length of an identifier in Python"
   ]
  },
  {
   "cell_type": "raw",
   "id": "4ede3749-829d-4f6d-a90e-98812810416b",
   "metadata": {},
   "source": []
  },
  {
   "cell_type": "markdown",
   "id": "76935980-06e5-407c-8c88-4bdc9206dfcb",
   "metadata": {},
   "source": [
    "## Q13. What are the benefits of using Python?"
   ]
  },
  {
   "cell_type": "markdown",
   "id": "8b43bad1-75e2-45cb-bcca-b38ff15653e6",
   "metadata": {},
   "source": [
    "\n",
    "#### Ans. \n",
    "#### Benefits of using Python:-\n",
    "####      Simple and easy to understand  \n",
    "####      Free and open source\n",
    "####      Dynamic language\n",
    "####      Intepreted language\n",
    "####      Larrge number of libraries available"
   ]
  },
  {
   "cell_type": "code",
   "execution_count": null,
   "id": "2734c828-1d22-458f-b4c3-cd5184fe0977",
   "metadata": {},
   "outputs": [],
   "source": []
  },
  {
   "cell_type": "markdown",
   "id": "b4f33223-9186-4f40-a62b-b335c0edacdc",
   "metadata": {},
   "source": [
    "## Q14. How is memory managed in Python?"
   ]
  },
  {
   "cell_type": "markdown",
   "id": "4e3c7b64-9317-45f9-99f1-98dc6f3c928d",
   "metadata": {},
   "source": [
    "#### Ans. \n",
    "#### Memory in Python is managed by Python private heap space.\n",
    "#### All Python objects and data structures are located in a private heap.\n",
    "#### This private heap is taken care of by Python Interpreter itself, and a programmer doesn't have access to this private heap."
   ]
  },
  {
   "cell_type": "code",
   "execution_count": null,
   "id": "5aa2cc64-6f68-4aee-89a2-636d876d488c",
   "metadata": {},
   "outputs": [],
   "source": []
  },
  {
   "cell_type": "markdown",
   "id": "94301809-2b19-4386-be3d-4c8511f519b0",
   "metadata": {},
   "source": [
    "## Q15. How to install Python on Windows and set path variables?"
   ]
  },
  {
   "cell_type": "markdown",
   "id": "e9c1925c-a36d-4084-b4a8-7b1bce7e7442",
   "metadata": {
    "tags": []
   },
   "source": [
    "## Ans. Select Version of Python to Install\n",
    "####    Download Python Executable Installer\n",
    "####    Run Executable Installer\n",
    "####    Verify Python Was Installed On Windows  \n",
    "####    Verify Pip Was Installed\n",
    "####    Right-clicking This PC and going to Properties.\n",
    "####    Clicking on the Advanced system settings in the menu on the left.\n",
    "####    Clicking on the Environment Variables button on the bottom right.\n",
    "####    In the System variables section, selecting the Path variable and clicking on Edit.\n",
    "####    The next screen will show all the directories that are currently a part of the PATH variable.\n",
    "####    Clicking on New and entering Python’s install directory. \n",
    "####    Python can now be used directly from the command prompt "
   ]
  },
  {
   "cell_type": "code",
   "execution_count": null,
   "id": "8aa887c1-1b85-4b23-ac39-d2c3f24c0b8a",
   "metadata": {},
   "outputs": [],
   "source": []
  },
  {
   "cell_type": "markdown",
   "id": "672ef786-91e0-45b6-8749-af88b35e2a38",
   "metadata": {},
   "source": [
    "## Q16. Is indentation required in Python?"
   ]
  },
  {
   "cell_type": "markdown",
   "id": "774a19ed-d83a-46e4-ba33-eff479670e72",
   "metadata": {},
   "source": [
    "#### Ans. Yes, indentation required in Python and it is very important to Python."
   ]
  }
 ],
 "metadata": {
  "kernelspec": {
   "display_name": "Python 3 (ipykernel)",
   "language": "python",
   "name": "python3"
  },
  "language_info": {
   "codemirror_mode": {
    "name": "ipython",
    "version": 3
   },
   "file_extension": ".py",
   "mimetype": "text/x-python",
   "name": "python",
   "nbconvert_exporter": "python",
   "pygments_lexer": "ipython3",
   "version": "3.10.8"
  }
 },
 "nbformat": 4,
 "nbformat_minor": 5
}
